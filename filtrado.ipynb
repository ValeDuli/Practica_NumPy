{
 "cells": [
  {
   "cell_type": "code",
   "execution_count": 1,
   "metadata": {},
   "outputs": [],
   "source": [
    "import numpy as np"
   ]
  },
  {
   "cell_type": "markdown",
   "metadata": {},
   "source": [
    "Boolean masks"
   ]
  },
  {
   "cell_type": "code",
   "execution_count": 2,
   "metadata": {},
   "outputs": [
    {
     "data": {
      "text/plain": [
       "array([1, 2, 3, 4, 5])"
      ]
     },
     "execution_count": 2,
     "metadata": {},
     "output_type": "execute_result"
    }
   ],
   "source": [
    "one_to_five = np.arange(1, 6) \n",
    "one_to_five"
   ]
  },
  {
   "cell_type": "code",
   "execution_count": 3,
   "metadata": {},
   "outputs": [
    {
     "data": {
      "text/plain": [
       "array([False,  True, False,  True, False])"
      ]
     },
     "execution_count": 3,
     "metadata": {},
     "output_type": "execute_result"
    }
   ],
   "source": [
    "mask = one_to_five % 2 == 0 \n",
    "mask"
   ]
  },
  {
   "cell_type": "markdown",
   "metadata": {},
   "source": [
    "Filtrado con indexación "
   ]
  },
  {
   "cell_type": "code",
   "execution_count": 4,
   "metadata": {},
   "outputs": [
    {
     "data": {
      "text/plain": [
       "array([2, 4])"
      ]
     },
     "execution_count": 4,
     "metadata": {},
     "output_type": "execute_result"
    }
   ],
   "source": [
    "one_to_five = np.arange(1, 6) \n",
    "mask = one_to_five % 2 == 0 \n",
    "one_to_five[mask]"
   ]
  },
  {
   "cell_type": "markdown",
   "metadata": {},
   "source": [
    "Filtrado con indexación 2D"
   ]
  },
  {
   "cell_type": "code",
   "execution_count": 5,
   "metadata": {},
   "outputs": [
    {
     "data": {
      "text/plain": [
       "array([[ 1, 22],\n",
       "       [ 2, 21],\n",
       "       [ 3, 27],\n",
       "       [ 4, 26]])"
      ]
     },
     "execution_count": 5,
     "metadata": {},
     "output_type": "execute_result"
    }
   ],
   "source": [
    "classroom_ids_and_sizes = np.array([[1, 22], [2, 21], [3, 27], [4, 26]]) \n",
    "classroom_ids_and_sizes"
   ]
  },
  {
   "cell_type": "code",
   "execution_count": 6,
   "metadata": {},
   "outputs": [
    {
     "data": {
      "text/plain": [
       "array([ True, False, False,  True])"
      ]
     },
     "execution_count": 6,
     "metadata": {},
     "output_type": "execute_result"
    }
   ],
   "source": [
    "classroom_ids_and_sizes[:, 1] % 2 == 0 "
   ]
  },
  {
   "cell_type": "code",
   "execution_count": 7,
   "metadata": {},
   "outputs": [
    {
     "data": {
      "text/plain": [
       "array([1, 4])"
      ]
     },
     "execution_count": 7,
     "metadata": {},
     "output_type": "execute_result"
    }
   ],
   "source": [
    "classroom_ids_and_sizes[:, 0][classroom_ids_and_sizes[:, 1] % 2 == 0]"
   ]
  },
  {
   "cell_type": "markdown",
   "metadata": {},
   "source": [
    "Filtrado con np.where()"
   ]
  },
  {
   "cell_type": "code",
   "execution_count": 8,
   "metadata": {},
   "outputs": [
    {
     "data": {
      "text/plain": [
       "(array([0, 3]),)"
      ]
     },
     "execution_count": 8,
     "metadata": {},
     "output_type": "execute_result"
    }
   ],
   "source": [
    "np.where(classroom_ids_and_sizes[:, 1] % 2 == 0)"
   ]
  },
  {
   "cell_type": "code",
   "execution_count": 9,
   "metadata": {},
   "outputs": [
    {
     "data": {
      "text/plain": [
       "array([[0, 0, 4, 3, 0, 0, 2, 0, 9],\n",
       "       [0, 0, 5, 0, 0, 9, 0, 0, 1],\n",
       "       [0, 7, 0, 0, 6, 0, 0, 4, 3],\n",
       "       [0, 0, 6, 0, 0, 2, 0, 8, 7],\n",
       "       [1, 9, 0, 0, 0, 7, 4, 0, 0],\n",
       "       [0, 5, 0, 0, 8, 3, 0, 0, 0],\n",
       "       [6, 0, 0, 0, 0, 1, 1, 0, 5],\n",
       "       [0, 0, 3, 5, 0, 8, 6, 9, 0],\n",
       "       [0, 4, 2, 9, 1, 0, 3, 0, 0]])"
      ]
     },
     "execution_count": 9,
     "metadata": {},
     "output_type": "execute_result"
    }
   ],
   "source": [
    "sudoku_game=np.array([[0,0,4,3,0,0,2,0,9],\n",
    "                      [0,0,5,0,0,9,0,0,1],\n",
    "                      [0,7,0,0,6,0,0,4,3],\n",
    "                      [0,0,6,0,0,2,0,8,7],\n",
    "                      [1,9,0,0,0,7,4,0,0],\n",
    "                      [0,5,0,0,8,3,0,0,0],\n",
    "                      [6,0,0,0,0,1,1,0,5],\n",
    "                      [0,0,3,5,0,8,6,9,0],\n",
    "                      [0,4,2,9,1,0,3,0,0]])\n",
    "sudoku_game"
   ]
  },
  {
   "cell_type": "markdown",
   "metadata": {},
   "source": [
    "Una tupla de índices"
   ]
  },
  {
   "cell_type": "code",
   "execution_count": 10,
   "metadata": {},
   "outputs": [
    {
     "data": {
      "text/plain": [
       "(array([0, 0, 0, 0, 0, 1, 1, 1, 1, 1, 1, 2, 2, 2, 2, 2, 3, 3, 3, 3, 3, 4,\n",
       "        4, 4, 4, 4, 5, 5, 5, 5, 5, 5, 6, 6, 6, 6, 6, 7, 7, 7, 7, 8, 8, 8,\n",
       "        8]),\n",
       " array([0, 1, 4, 5, 7, 0, 1, 3, 4, 6, 7, 0, 2, 3, 5, 6, 0, 1, 3, 4, 6, 2,\n",
       "        3, 4, 7, 8, 0, 2, 3, 6, 7, 8, 1, 2, 3, 4, 7, 0, 1, 4, 8, 0, 5, 7,\n",
       "        8]))"
      ]
     },
     "execution_count": 10,
     "metadata": {},
     "output_type": "execute_result"
    }
   ],
   "source": [
    "row_ind, column_ind = np.where(sudoku_game == 0) \n",
    "row_ind, column_ind "
   ]
  },
  {
   "cell_type": "markdown",
   "metadata": {},
   "source": [
    "Buscar y reemplazar"
   ]
  },
  {
   "cell_type": "code",
   "execution_count": 11,
   "metadata": {},
   "outputs": [
    {
     "data": {
      "text/plain": [
       "array([['', '', '4', '3', '', '', '2', '', '9'],\n",
       "       ['', '', '5', '', '', '9', '', '', '1'],\n",
       "       ['', '7', '', '', '6', '', '', '4', '3'],\n",
       "       ['', '', '6', '', '', '2', '', '8', '7'],\n",
       "       ['1', '9', '', '', '', '7', '4', '', ''],\n",
       "       ['', '5', '', '', '8', '3', '', '', ''],\n",
       "       ['6', '', '', '', '', '1', '1', '', '5'],\n",
       "       ['', '', '3', '5', '', '8', '6', '9', ''],\n",
       "       ['', '4', '2', '9', '1', '', '3', '', '']], dtype='<U21')"
      ]
     },
     "execution_count": 11,
     "metadata": {},
     "output_type": "execute_result"
    }
   ],
   "source": [
    "np.where(sudoku_game == 0, \"\", sudoku_game)"
   ]
  }
 ],
 "metadata": {
  "kernelspec": {
   "display_name": "Python 3",
   "language": "python",
   "name": "python3"
  },
  "language_info": {
   "codemirror_mode": {
    "name": "ipython",
    "version": 3
   },
   "file_extension": ".py",
   "mimetype": "text/x-python",
   "name": "python",
   "nbconvert_exporter": "python",
   "pygments_lexer": "ipython3",
   "version": "3.12.4"
  }
 },
 "nbformat": 4,
 "nbformat_minor": 2
}
