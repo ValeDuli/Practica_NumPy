{
 "cells": [
  {
   "cell_type": "code",
   "execution_count": 11,
   "metadata": {},
   "outputs": [],
   "source": [
    "import numpy as np"
   ]
  },
  {
   "cell_type": "markdown",
   "metadata": {},
   "source": [
    "3D arrays\n"
   ]
  },
  {
   "cell_type": "code",
   "execution_count": 12,
   "metadata": {},
   "outputs": [
    {
     "data": {
      "text/plain": [
       "array([[[1, 2],\n",
       "        [5, 7]],\n",
       "\n",
       "       [[8, 9],\n",
       "        [5, 7]],\n",
       "\n",
       "       [[1, 2],\n",
       "        [5, 7]]])"
      ]
     },
     "execution_count": 12,
     "metadata": {},
     "output_type": "execute_result"
    }
   ],
   "source": [
    "array_1_2D = np.array([[1,2],[5,7]])\n",
    "array_2_2D = np.array([[8,9],[5,7]])\n",
    "array_3_2D = np.array([[1,2],[5,7]])\n",
    "array_3D = np.array([array_1_2D,array_2_2D,array_3_2D])\n",
    "array_3D"
   ]
  },
  {
   "cell_type": "markdown",
   "metadata": {},
   "source": [
    "4D arrays"
   ]
  },
  {
   "cell_type": "code",
   "execution_count": 13,
   "metadata": {},
   "outputs": [
    {
     "data": {
      "text/plain": [
       "array([[[[5, 2],\n",
       "         [8, 3]],\n",
       "\n",
       "        [[5, 1],\n",
       "         [2, 0]],\n",
       "\n",
       "        [[0, 3],\n",
       "         [2, 5]]],\n",
       "\n",
       "\n",
       "       [[[2, 0],\n",
       "         [0, 3]],\n",
       "\n",
       "        [[9, 0],\n",
       "         [8, 8]],\n",
       "\n",
       "        [[6, 5],\n",
       "         [3, 7]]],\n",
       "\n",
       "\n",
       "       [[[6, 5],\n",
       "         [3, 2]],\n",
       "\n",
       "        [[2, 2],\n",
       "         [5, 3]],\n",
       "\n",
       "        [[0, 9],\n",
       "         [3, 7]]],\n",
       "\n",
       "\n",
       "       [[[8, 1],\n",
       "         [2, 4]],\n",
       "\n",
       "        [[2, 7],\n",
       "         [7, 0]],\n",
       "\n",
       "        [[7, 0],\n",
       "         [5, 7]]],\n",
       "\n",
       "\n",
       "       [[[5, 2],\n",
       "         [6, 8]],\n",
       "\n",
       "        [[2, 3],\n",
       "         [2, 7]],\n",
       "\n",
       "        [[5, 8],\n",
       "         [9, 1]]],\n",
       "\n",
       "\n",
       "       [[[1, 0],\n",
       "         [9, 4]],\n",
       "\n",
       "        [[5, 1],\n",
       "         [8, 6]],\n",
       "\n",
       "        [[0, 0],\n",
       "         [7, 2]]],\n",
       "\n",
       "\n",
       "       [[[1, 5],\n",
       "         [9, 0]],\n",
       "\n",
       "        [[4, 3],\n",
       "         [8, 9]],\n",
       "\n",
       "        [[4, 4],\n",
       "         [6, 7]]],\n",
       "\n",
       "\n",
       "       [[[7, 4],\n",
       "         [6, 4]],\n",
       "\n",
       "        [[8, 5],\n",
       "         [4, 2]],\n",
       "\n",
       "        [[6, 9],\n",
       "         [1, 4]]],\n",
       "\n",
       "\n",
       "       [[[2, 5],\n",
       "         [2, 1]],\n",
       "\n",
       "        [[0, 9],\n",
       "         [6, 5]],\n",
       "\n",
       "        [[9, 3],\n",
       "         [3, 0]]]], dtype=int32)"
      ]
     },
     "execution_count": 13,
     "metadata": {},
     "output_type": "execute_result"
    }
   ],
   "source": [
    "array_A1_2D = np.random.randint(0, 10, size=(2, 2))\n",
    "array_A2_2D = np.random.randint(0, 10, size=(2, 2))\n",
    "array_A3_2D = np.random.randint(0, 10, size=(2, 2))\n",
    "array_A_3D = np.array([array_A1_2D,array_A2_2D,array_A3_2D])\n",
    "array_B1_2D = np.random.randint(0, 10, size=(2, 2))\n",
    "array_B2_2D = np.random.randint(0, 10, size=(2, 2))\n",
    "array_B3_2D = np.random.randint(0, 10, size=(2, 2))\n",
    "array_B_3D = np.array([array_B1_2D,array_B2_2D,array_B3_2D])\n",
    "array_C1_2D = np.random.randint(0, 10, size=(2, 2))\n",
    "array_C2_2D = np.random.randint(0, 10, size=(2, 2))\n",
    "array_C3_2D = np.random.randint(0, 10, size=(2, 2))\n",
    "array_C_3D = np.array([array_C1_2D,array_C2_2D,array_C3_2D])\n",
    "array_D1_2D = np.random.randint(0, 10, size=(2, 2))\n",
    "array_D2_2D = np.random.randint(0, 10, size=(2, 2))\n",
    "array_D3_2D = np.random.randint(0, 10, size=(2, 2))\n",
    "array_D_3D = np.array([array_D1_2D,array_D2_2D,array_D3_2D])\n",
    "array_E1_2D = np.random.randint(0, 10, size=(2, 2))\n",
    "array_E2_2D = np.random.randint(0, 10, size=(2, 2))\n",
    "array_E3_2D = np.random.randint(0, 10, size=(2, 2))\n",
    "array_E_3D = np.array([array_E1_2D,array_E2_2D,array_E3_2D])\n",
    "array_F1_2D = np.random.randint(0, 10, size=(2, 2))\n",
    "array_F2_2D = np.random.randint(0, 10, size=(2, 2))\n",
    "array_F3_2D = np.random.randint(0, 10, size=(2, 2))\n",
    "array_F_3D = np.array([array_F1_2D,array_F2_2D,array_F3_2D])\n",
    "array_G1_2D = np.random.randint(0, 10, size=(2, 2))\n",
    "array_G2_2D = np.random.randint(0, 10, size=(2, 2))\n",
    "array_G3_2D = np.random.randint(0, 10, size=(2, 2))\n",
    "array_G_3D = np.array([array_G1_2D,array_G2_2D,array_G3_2D])\n",
    "array_H1_2D = np.random.randint(0, 10, size=(2, 2))\n",
    "array_H2_2D = np.random.randint(0, 10, size=(2, 2))\n",
    "array_H3_2D = np.random.randint(0, 10, size=(2, 2))\n",
    "array_H_3D = np.array([array_H1_2D,array_H2_2D,array_H3_2D])\n",
    "array_I1_2D = np.random.randint(0, 10, size=(2, 2))\n",
    "array_I2_2D = np.random.randint(0, 10, size=(2, 2))\n",
    "array_I3_2D = np.random.randint(0, 10, size=(2, 2))\n",
    "array_I_3D = np.array([array_I1_2D,array_I2_2D,array_I3_2D])\n",
    "array_4D = np.array([array_A_3D, array_B_3D, array_C_3D, array_D_3D, array_E_3D, array_F_3D, array_G_3D, array_H_3D, array_I_3D])\n",
    "array_4D\n"
   ]
  },
  {
   "cell_type": "code",
   "execution_count": 14,
   "metadata": {},
   "outputs": [
    {
     "data": {
      "text/plain": [
       "array([[[[1, 8],\n",
       "         [5, 3]],\n",
       "\n",
       "        [[9, 8],\n",
       "         [1, 4]],\n",
       "\n",
       "        [[5, 6],\n",
       "         [6, 8]]],\n",
       "\n",
       "\n",
       "       [[[2, 8],\n",
       "         [5, 0]],\n",
       "\n",
       "        [[4, 4],\n",
       "         [0, 8]],\n",
       "\n",
       "        [[4, 2],\n",
       "         [5, 4]]],\n",
       "\n",
       "\n",
       "       [[[1, 5],\n",
       "         [1, 5]],\n",
       "\n",
       "        [[8, 3],\n",
       "         [5, 9]],\n",
       "\n",
       "        [[5, 4],\n",
       "         [7, 2]]],\n",
       "\n",
       "\n",
       "       [[[9, 5],\n",
       "         [0, 1]],\n",
       "\n",
       "        [[8, 6],\n",
       "         [3, 6]],\n",
       "\n",
       "        [[4, 7],\n",
       "         [6, 5]]],\n",
       "\n",
       "\n",
       "       [[[2, 5],\n",
       "         [3, 5]],\n",
       "\n",
       "        [[3, 9],\n",
       "         [9, 4]],\n",
       "\n",
       "        [[2, 7],\n",
       "         [6, 8]]],\n",
       "\n",
       "\n",
       "       [[[7, 9],\n",
       "         [4, 2]],\n",
       "\n",
       "        [[6, 2],\n",
       "         [7, 8]],\n",
       "\n",
       "        [[7, 7],\n",
       "         [6, 7]]],\n",
       "\n",
       "\n",
       "       [[[5, 1],\n",
       "         [8, 1]],\n",
       "\n",
       "        [[4, 5],\n",
       "         [9, 0]],\n",
       "\n",
       "        [[4, 8],\n",
       "         [5, 9]]],\n",
       "\n",
       "\n",
       "       [[[9, 7],\n",
       "         [9, 9]],\n",
       "\n",
       "        [[8, 3],\n",
       "         [6, 7]],\n",
       "\n",
       "        [[6, 5],\n",
       "         [9, 6]]],\n",
       "\n",
       "\n",
       "       [[[8, 6],\n",
       "         [7, 6]],\n",
       "\n",
       "        [[6, 0],\n",
       "         [6, 2]],\n",
       "\n",
       "        [[2, 2],\n",
       "         [2, 4]]]], dtype=int32)"
      ]
     },
     "execution_count": 14,
     "metadata": {},
     "output_type": "execute_result"
    }
   ],
   "source": [
    "array_A_3D=np.random.randint(0, 10, size=(3, 2, 2))\n",
    "array_B_3D=np.random.randint(0, 10, size=(3, 2, 2))\n",
    "array_C_3D=np.random.randint(0, 10, size=(3, 2, 2))\n",
    "array_D_3D=np.random.randint(0, 10, size=(3, 2, 2))\n",
    "array_E_3D=np.random.randint(0, 10, size=(3, 2, 2))\n",
    "array_F_3D=np.random.randint(0, 10, size=(3, 2, 2))\n",
    "array_G_3D=np.random.randint(0, 10, size=(3, 2, 2))\n",
    "array_H_3D=np.random.randint(0, 10, size=(3, 2, 2))\n",
    "array_I_3D=np.random.randint(0, 10, size=(3, 2, 2))\n",
    "array_4D = np.array([array_A_3D, array_B_3D, array_C_3D, array_D_3D, array_E_3D, array_F_3D, array_G_3D, array_H_3D, array_I_3D])\n",
    "array_4D"
   ]
  },
  {
   "cell_type": "code",
   "execution_count": 15,
   "metadata": {},
   "outputs": [
    {
     "data": {
      "text/plain": [
       "array([[[[7, 0],\n",
       "         [3, 5]],\n",
       "\n",
       "        [[2, 2],\n",
       "         [3, 8]],\n",
       "\n",
       "        [[7, 4],\n",
       "         [3, 8]]],\n",
       "\n",
       "\n",
       "       [[[2, 7],\n",
       "         [0, 5]],\n",
       "\n",
       "        [[5, 0],\n",
       "         [0, 9]],\n",
       "\n",
       "        [[1, 4],\n",
       "         [3, 3]]],\n",
       "\n",
       "\n",
       "       [[[2, 7],\n",
       "         [0, 2]],\n",
       "\n",
       "        [[0, 2],\n",
       "         [2, 2]],\n",
       "\n",
       "        [[5, 5],\n",
       "         [2, 4]]],\n",
       "\n",
       "\n",
       "       [[[8, 7],\n",
       "         [4, 3]],\n",
       "\n",
       "        [[7, 3],\n",
       "         [4, 8]],\n",
       "\n",
       "        [[1, 6],\n",
       "         [5, 3]]],\n",
       "\n",
       "\n",
       "       [[[3, 9],\n",
       "         [4, 0]],\n",
       "\n",
       "        [[6, 1],\n",
       "         [3, 1]],\n",
       "\n",
       "        [[7, 8],\n",
       "         [2, 8]]],\n",
       "\n",
       "\n",
       "       [[[3, 0],\n",
       "         [4, 5]],\n",
       "\n",
       "        [[2, 0],\n",
       "         [8, 4]],\n",
       "\n",
       "        [[3, 6],\n",
       "         [1, 8]]],\n",
       "\n",
       "\n",
       "       [[[8, 1],\n",
       "         [2, 0]],\n",
       "\n",
       "        [[8, 7],\n",
       "         [3, 4]],\n",
       "\n",
       "        [[3, 6],\n",
       "         [2, 4]]],\n",
       "\n",
       "\n",
       "       [[[9, 9],\n",
       "         [2, 3]],\n",
       "\n",
       "        [[2, 7],\n",
       "         [8, 3]],\n",
       "\n",
       "        [[1, 2],\n",
       "         [3, 7]]],\n",
       "\n",
       "\n",
       "       [[[0, 3],\n",
       "         [1, 2]],\n",
       "\n",
       "        [[9, 2],\n",
       "         [6, 0]],\n",
       "\n",
       "        [[3, 3],\n",
       "         [4, 2]]]], dtype=int32)"
      ]
     },
     "execution_count": 15,
     "metadata": {},
     "output_type": "execute_result"
    }
   ],
   "source": [
    "array_4D=np.random.randint(0, 10, size=(9, 3, 2, 2))\n",
    "array_4D"
   ]
  },
  {
   "cell_type": "markdown",
   "metadata": {},
   "source": [
    "Encontrar la forma de una matriz"
   ]
  },
  {
   "cell_type": "code",
   "execution_count": 16,
   "metadata": {},
   "outputs": [
    {
     "name": "stdout",
     "output_type": "stream",
     "text": [
      "[[0. 0. 0. 0. 0.]\n",
      " [0. 0. 0. 0. 0.]\n",
      " [0. 0. 0. 0. 0.]]\n"
     ]
    }
   ],
   "source": [
    "array=np.zeros((3,5))\n",
    "print(array)"
   ]
  },
  {
   "cell_type": "code",
   "execution_count": 17,
   "metadata": {},
   "outputs": [
    {
     "data": {
      "text/plain": [
       "(3, 5)"
      ]
     },
     "execution_count": 17,
     "metadata": {},
     "output_type": "execute_result"
    }
   ],
   "source": [
    "array.shape"
   ]
  },
  {
   "cell_type": "markdown",
   "metadata": {},
   "source": [
    "Flattening un array\n"
   ]
  },
  {
   "cell_type": "code",
   "execution_count": 18,
   "metadata": {},
   "outputs": [
    {
     "data": {
      "text/plain": [
       "array([1, 2, 5, 7, 6, 6])"
      ]
     },
     "execution_count": 18,
     "metadata": {},
     "output_type": "execute_result"
    }
   ],
   "source": [
    "array = np.array([[1, 2], [5, 7], [6, 6]]) \n",
    "array.flatten()"
   ]
  },
  {
   "cell_type": "markdown",
   "metadata": {},
   "source": [
    "Remodelación de una matriz"
   ]
  },
  {
   "cell_type": "code",
   "execution_count": 19,
   "metadata": {},
   "outputs": [
    {
     "data": {
      "text/plain": [
       "array([[1, 2, 5],\n",
       "       [7, 6, 6]])"
      ]
     },
     "execution_count": 19,
     "metadata": {},
     "output_type": "execute_result"
    }
   ],
   "source": [
    "array = np.array([[1, 2], [5, 7], [6, 6]]) \n",
    "array.reshape((2, 3))"
   ]
  },
  {
   "cell_type": "code",
   "execution_count": 20,
   "metadata": {},
   "outputs": [
    {
     "ename": "ValueError",
     "evalue": "cannot reshape array of size 6 into shape (3,3)",
     "output_type": "error",
     "traceback": [
      "\u001b[1;31m---------------------------------------------------------------------------\u001b[0m",
      "\u001b[1;31mValueError\u001b[0m                                Traceback (most recent call last)",
      "Cell \u001b[1;32mIn[20], line 1\u001b[0m\n\u001b[1;32m----> 1\u001b[0m \u001b[43marray\u001b[49m\u001b[38;5;241;43m.\u001b[39;49m\u001b[43mreshape\u001b[49m\u001b[43m(\u001b[49m\u001b[43m(\u001b[49m\u001b[38;5;241;43m3\u001b[39;49m\u001b[43m,\u001b[49m\u001b[43m \u001b[49m\u001b[38;5;241;43m3\u001b[39;49m\u001b[43m)\u001b[49m\u001b[43m)\u001b[49m \u001b[38;5;66;03m#No se puede cambiar la cantidad de datos\u001b[39;00m\n",
      "\u001b[1;31mValueError\u001b[0m: cannot reshape array of size 6 into shape (3,3)"
     ]
    }
   ],
   "source": [
    "array.reshape((3, 3)) #No se puede cambiar la cantidad de datos\n"
   ]
  }
 ],
 "metadata": {
  "kernelspec": {
   "display_name": "Python 3",
   "language": "python",
   "name": "python3"
  },
  "language_info": {
   "codemirror_mode": {
    "name": "ipython",
    "version": 3
   },
   "file_extension": ".py",
   "mimetype": "text/x-python",
   "name": "python",
   "nbconvert_exporter": "python",
   "pygments_lexer": "ipython3",
   "version": "3.12.4"
  }
 },
 "nbformat": 4,
 "nbformat_minor": 2
}
